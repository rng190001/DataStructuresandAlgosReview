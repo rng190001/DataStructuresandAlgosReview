{
 "cells": [
  {
   "cell_type": "markdown",
   "metadata": {},
   "source": [
    "## Big O Notation Overview\n",
    "\n",
    "### Common Rules:\n",
    "- **O(1):** Constant time  \n",
    "  → No loops\n",
    "\n",
    "- **O(log N):** Logarithmic time  \n",
    "  → Typically appears in searching algorithms (e.g., binary search on a sorted array)\n",
    "\n",
    "- **O(N):** Linear time  \n",
    "  → Single `for` or `while` loops\n",
    "\n",
    "- **O(N log N):** Log-linear time  \n",
    "  → Usually seen in efficient sorting algorithms (e.g., mergesort, heapsort)\n",
    "\n",
    "- **O(N²):** Quadratic time  \n",
    "  → Every element needs to be compared to every other (e.g., two nested loops)\n",
    "\n",
    "- **O(2ⁿ):** Exponential time  \n",
    "  → Recursive problems with multiple calls (e.g., brute-force recursive solutions)\n",
    "\n",
    "- **O(N!):** Factorial time  \n",
    "  → Algorithms that generate all permutations (e.g., traveling salesman problem)\n"
   ]
  },
  {
   "cell_type": "code",
   "execution_count": 2,
   "metadata": {},
   "outputs": [],
   "source": [
    "nemo = [\"nemo\"]"
   ]
  },
  {
   "cell_type": "code",
   "execution_count": 3,
   "metadata": {},
   "outputs": [],
   "source": [
    "everyone = [\"dory\", \"marlin\", \"bruce\", \"nigel\", \"nemo\", \"gill\", \"bloat\", \"squirt\", \"darla\", \"hank\"]"
   ]
  },
  {
   "cell_type": "code",
   "execution_count": 4,
   "metadata": {},
   "outputs": [],
   "source": [
    "#Big O Notation for this fucntion: O(n)\n",
    "#n = number of inputs in the array\n",
    "def findNemo(array1):\n",
    "    for i in array1:\n",
    "        if i == \"nemo\":\n",
    "            print(\"Found Nemo!\")"
   ]
  },
  {
   "cell_type": "code",
   "execution_count": 5,
   "metadata": {},
   "outputs": [
    {
     "name": "stdout",
     "output_type": "stream",
     "text": [
      "Found Nemo!\n"
     ]
    }
   ],
   "source": [
    "findNemo(nemo)"
   ]
  },
  {
   "cell_type": "code",
   "execution_count": 6,
   "metadata": {},
   "outputs": [
    {
     "name": "stdout",
     "output_type": "stream",
     "text": [
      "Found Nemo!\n"
     ]
    }
   ],
   "source": [
    "findNemo(everyone)"
   ]
  },
  {
   "cell_type": "code",
   "execution_count": 7,
   "metadata": {},
   "outputs": [],
   "source": [
    "boxes = [0,1,2,3,4,5]"
   ]
  },
  {
   "cell_type": "code",
   "execution_count": 8,
   "metadata": {},
   "outputs": [
    {
     "name": "stdout",
     "output_type": "stream",
     "text": [
      "0\n",
      "1\n"
     ]
    }
   ],
   "source": [
    "#Big O Notation for this function: O(1)\n",
    "def compressBoxes(boxes):\n",
    "    print(boxes[0]) #O(1)\n",
    "    print(boxes[1]) #O(1)\n",
    "\n",
    "#Takes O(2) time but this is still a constant time operation\n",
    "compressBoxes(boxes)"
   ]
  },
  {
   "cell_type": "code",
   "execution_count": 9,
   "metadata": {},
   "outputs": [],
   "source": [
    "#What is the big O time of this function\n",
    "def anotherFunction():\n",
    "  print(1)\n",
    "\n",
    "def funChallenge(input):\n",
    "  a = 10; #O(1)\n",
    "  a = 50 + 3; #O(1)\n",
    "\n",
    "  #O(n) -> for every input in the input this runs\n",
    "  for i in input:\n",
    "    anotherFunction() #O(n)\n",
    "    stranger = True #O(n)\n",
    "    a = a + 1 #O(n)\n",
    "  \n",
    "  return a; #O(1)\n",
    "\n",
    "#O(3 + 4n) --> O(n)\n",
    "#Therefore the overall time complexity is O(n) time"
   ]
  },
  {
   "cell_type": "code",
   "execution_count": 10,
   "metadata": {},
   "outputs": [],
   "source": [
    "# What is the Big O of the below function?\n",
    "def anotherFunChallenge(input):\n",
    "    a = 5 #O(1)\n",
    "    b = 10 #O(1)\n",
    "    c = 50 #O(1)\n",
    "\n",
    "    for i in input: #O(n)\n",
    "        x = i + 1   #O(n)\n",
    "        y = i + 2   #O(n)\n",
    "        z = i + 3   #O(n)\n",
    "\n",
    "    for j in input:  #O(n)\n",
    "        p = j * 2;   #O(n)\n",
    "        q = j * 2;   #O(n)\n",
    "    \n",
    "    whoAmI = \"I don't know\"; #O(1)\n",
    "\n",
    "#O(4 + 7n) --> O(n)\n",
    "#Therefore the overall time complexity is O(n) time\n"
   ]
  }
 ],
 "metadata": {
  "kernelspec": {
   "display_name": "Python 3",
   "language": "python",
   "name": "python3"
  },
  "language_info": {
   "codemirror_mode": {
    "name": "ipython",
    "version": 3
   },
   "file_extension": ".py",
   "mimetype": "text/x-python",
   "name": "python",
   "nbconvert_exporter": "python",
   "pygments_lexer": "ipython3",
   "version": "3.10.9"
  }
 },
 "nbformat": 4,
 "nbformat_minor": 2
}
